{
 "cells": [
  {
   "cell_type": "markdown",
   "metadata": {},
   "source": [
    "## White -box attack"
   ]
  },
  {
   "cell_type": "code",
   "execution_count": 4,
   "metadata": {
    "ExecuteTime": {
     "end_time": "2019-03-20T18:26:38.240069Z",
     "start_time": "2019-03-20T18:26:38.228101Z"
    }
   },
   "outputs": [],
   "source": [
    "import os"
   ]
  },
  {
   "cell_type": "code",
   "execution_count": 3,
   "metadata": {
    "ExecuteTime": {
     "end_time": "2019-03-20T18:26:26.394397Z",
     "start_time": "2019-03-20T18:26:26.248363Z"
    }
   },
   "outputs": [
    {
     "ename": "NameError",
     "evalue": "name 'os' is not defined",
     "output_type": "error",
     "traceback": [
      "\u001b[0;31m---------------------------------------------------------------------------\u001b[0m",
      "\u001b[0;31mNameError\u001b[0m                                 Traceback (most recent call last)",
      "\u001b[0;32m<ipython-input-3-300434e5ed0e>\u001b[0m in \u001b[0;36m<module>\u001b[0;34m()\u001b[0m\n\u001b[1;32m      1\u001b[0m \u001b[0mmodel_path\u001b[0m \u001b[0;34m=\u001b[0m \u001b[0;34m'/users/Stathis/GoogleDrive/MLP/attack_results_pgd_7/'\u001b[0m\u001b[0;34m\u001b[0m\u001b[0m\n\u001b[0;32m----> 2\u001b[0;31m \u001b[0mnets\u001b[0m \u001b[0;34m=\u001b[0m  \u001b[0mlist\u001b[0m\u001b[0;34m(\u001b[0m\u001b[0mos\u001b[0m\u001b[0;34m.\u001b[0m\u001b[0mlistdir\u001b[0m\u001b[0;34m(\u001b[0m\u001b[0mmodel_path\u001b[0m\u001b[0;34m)\u001b[0m\u001b[0;34m)\u001b[0m\u001b[0;34m\u001b[0m\u001b[0m\n\u001b[0m\u001b[1;32m      3\u001b[0m \u001b[0mnets\u001b[0m \u001b[0;34m=\u001b[0m \u001b[0;34m[\u001b[0m\u001b[0ma\u001b[0m \u001b[0;32mfor\u001b[0m \u001b[0ma\u001b[0m \u001b[0;32min\u001b[0m \u001b[0mnets\u001b[0m \u001b[0;32mif\u001b[0m \u001b[0;34m'json'\u001b[0m \u001b[0;32min\u001b[0m \u001b[0ma\u001b[0m\u001b[0;34m]\u001b[0m\u001b[0;34m\u001b[0m\u001b[0m\n\u001b[1;32m      4\u001b[0m \u001b[0mnets\u001b[0m\u001b[0;34m.\u001b[0m\u001b[0msort\u001b[0m\u001b[0;34m(\u001b[0m\u001b[0;34m)\u001b[0m\u001b[0;34m\u001b[0m\u001b[0m\n\u001b[1;32m      5\u001b[0m \u001b[0;34m\u001b[0m\u001b[0m\n",
      "\u001b[0;31mNameError\u001b[0m: name 'os' is not defined"
     ]
    }
   ],
   "source": [
    "model_path = '/users/Stathis/GoogleDrive/MLP/attack_results_pgd_7/'\n",
    "nets =  list(os.listdir(model_path))\n",
    "nets = [a for a in nets if 'json' in a]\n",
    "nets.sort()\n",
    "\n",
    "transfer_method= {'nat','pgd','fgsm'}\n",
    "trained_method= {'nat','pgd','fgsm'}\n",
    "\n",
    "attack_results = {}\n",
    "\n",
    "for net in nets:\n",
    "    model_path = '../experiments_results/attack_results_pgd_7/'+net\n",
    "    with open(model_path,'r+') as json_data:\n",
    "#         print(net[24:-5])\n",
    "        attack_results[net[24:-5]] = list(json.load(json_data).values())\n",
    "    \n",
    "df = pd.DataFrame.from_dict(attack_results, columns=['Clean', 'FGSM', 'PGD'], orient='index')\n",
    "\n",
    "df=df.sort_values('Clean',ascending = False)\n",
    "df=np.round(df*100,1)"
   ]
  },
  {
   "cell_type": "code",
   "execution_count": 139,
   "metadata": {},
   "outputs": [
    {
     "data": {
      "text/plain": [
       "Index(['densenet121_cifar10', 'resnet56_cifar10', 'densenet121_cifar10_fgsm',\n",
       "       'transfer_resnet56_nat_nat', 'transfer_resnet56_nat_fgsm',\n",
       "       'transfer_densenet121_nat_nat', 'resnet56_cifar10_fgsm',\n",
       "       'resnet56_cifar10_pgd', 'densenet121_cifar10_pgd',\n",
       "       'transfer_resnet56_pgd_nat', 'transfer_resnet56_fgsm_nat',\n",
       "       'transfer_densenet121_nat_fgsm', 'transfer_resnet56_nat_pgd',\n",
       "       'transfer_resnet56_fgsm_fgsm', 'transfer_densenet121_fgsm_nat',\n",
       "       'transfer_resnet56_pgd_pgd', 'transfer_densenet121_fgsm_fgsm',\n",
       "       'transfer_densenet121_pgd_nat', 'transfer_densenet121_nat_pgd',\n",
       "       'transfer_densenet121_pgd_pgd', 'densenet121_cifar100',\n",
       "       'resnet56_cifar100', 'densenet121_cifar100_fgsm',\n",
       "       'densenet121_cifar100_pgd', 'resnet56_cifar100_fgsm',\n",
       "       'resnet56_cifar100_pgd'],\n",
       "      dtype='object')"
      ]
     },
     "execution_count": 139,
     "metadata": {},
     "output_type": "execute_result"
    }
   ],
   "source": [
    "df.index"
   ]
  },
  {
   "cell_type": "code",
   "execution_count": 155,
   "metadata": {},
   "outputs": [],
   "source": [
    "# nets_to_plot = ['densenet121_cifar10', 'densenet121_cifar10_fgsm', 'densenet121_cifar10_pgd',\n",
    "#                 'resnet56_cifar10', 'resnet56_cifar10_fgsm', 'resnet56_cifar10_pgd',\n",
    "#                ]\n",
    "\n",
    "# nets_to_plot = ['densenet121_cifar100', 'densenet121_cifar100_fgsm', 'densenet121_cifar100_pgd',\n",
    "#                 'resnet56_cifar100', 'resnet56_cifar100_fgsm', 'resnet56_cifar100_pgd',\n",
    "#                ]\n",
    "\n",
    "nets_to_plot = ['transfer_resnet56_nat_fgsm', 'transfer_resnet56_fgsm_fgsm', 'transfer_resnet56_fgsm_nat',\n",
    "                'transfer_resnet56_nat_pgd', 'transfer_resnet56_pgd_pgd', 'transfer_resnet56_pgd_nat',\n",
    "                'transfer_densenet121_nat_fgsm', 'transfer_densenet121_fgsm_fgsm', 'transfer_densenet121_fgsm_nat',\n",
    "                'transfer_densenet121_nat_pgd', 'transfer_densenet121_pgd_pgd', 'transfer_densenet121_pgd_nat',\n",
    "               ]"
   ]
  },
  {
   "cell_type": "code",
   "execution_count": 156,
   "metadata": {},
   "outputs": [
    {
     "name": "stdout",
     "output_type": "stream",
     "text": [
      "transfer resnet56 nat fgsm & 89.8%% & 48.2%% & 7.5%% \\\\ \n",
      "transfer resnet56 fgsm fgsm & 86.4%% & 40.4%% & 13.9%% \\\\ \n",
      "transfer resnet56 fgsm nat & 87.3%% & 38.3%% & 10.9%% \\\\ \n",
      "transfer resnet56 nat pgd & 87.0%% & 52.9%% & 9.4%% \\\\ \n",
      "transfer resnet56 pgd pgd & 86.1%% & 45.0%% & 12.2%% \\\\ \n",
      "transfer resnet56 pgd nat & 87.7%% & 41.5%% & 10.3%% \\\\ \n",
      "transfer densenet121 nat fgsm & 87.1%% & 51.1%% & 7.9%% \\\\ \n",
      "transfer densenet121 fgsm fgsm & 85.9%% & 46.0%% & 12.7%% \\\\ \n",
      "transfer densenet121 fgsm nat & 86.3%% & 40.2%% & 10.5%% \\\\ \n",
      "transfer densenet121 nat pgd & 83.6%% & 52.2%% & 10.6%% \\\\ \n",
      "transfer densenet121 pgd pgd & 82.7%% & 50.3%% & 16.5%% \\\\ \n",
      "transfer densenet121 pgd nat & 85.6%% & 41.1%% & 12.0%% \\\\ \n",
      "\\begin{tabular}{lrrr}\n",
      "\\toprule\n",
      "{} &  Clean &  FGSM &   PGD \\\\\n",
      "\\midrule\n",
      "transfer\\_resnet56\\_nat\\_fgsm     &   89.8 &  48.2 &   7.5 \\\\\n",
      "transfer\\_resnet56\\_fgsm\\_fgsm    &   86.4 &  40.4 &  13.9 \\\\\n",
      "transfer\\_resnet56\\_fgsm\\_nat     &   87.3 &  38.3 &  10.9 \\\\\n",
      "transfer\\_resnet56\\_nat\\_pgd      &   87.0 &  52.9 &   9.4 \\\\\n",
      "transfer\\_resnet56\\_pgd\\_pgd      &   86.1 &  45.0 &  12.2 \\\\\n",
      "transfer\\_resnet56\\_pgd\\_nat      &   87.7 &  41.5 &  10.3 \\\\\n",
      "transfer\\_densenet121\\_nat\\_fgsm  &   87.1 &  51.1 &   7.9 \\\\\n",
      "transfer\\_densenet121\\_fgsm\\_fgsm &   85.9 &  46.0 &  12.7 \\\\\n",
      "transfer\\_densenet121\\_fgsm\\_nat  &   86.3 &  40.2 &  10.5 \\\\\n",
      "transfer\\_densenet121\\_nat\\_pgd   &   83.6 &  52.2 &  10.6 \\\\\n",
      "transfer\\_densenet121\\_pgd\\_pgd   &   82.7 &  50.3 &  16.5 \\\\\n",
      "transfer\\_densenet121\\_pgd\\_nat   &   85.6 &  41.1 &  12.0 \\\\\n",
      "\\bottomrule\n",
      "\\end{tabular}\n",
      "\n"
     ]
    }
   ],
   "source": [
    "df_tmp = df.loc[nets_to_plot]\n",
    "for i in df_tmp.iterrows():\n",
    "    print('%s & %.1f%%%% & %.1f%%%% & %.1f%%%% \\\\\\\\ ' % \n",
    "          (' '.join(i[0].split('_')), i[1]['Clean'], i[1]['FGSM'], i[1]['PGD']))\n",
    "    \n",
    "print(df_tmp.to_latex())"
   ]
  },
  {
   "cell_type": "code",
   "execution_count": null,
   "metadata": {},
   "outputs": [],
   "source": []
  },
  {
   "cell_type": "code",
   "execution_count": 136,
   "metadata": {},
   "outputs": [
    {
     "data": {
      "text/plain": [
       "<matplotlib.axes._subplots.AxesSubplot at 0x11c94e860>"
      ]
     },
     "execution_count": 136,
     "metadata": {},
     "output_type": "execute_result"
    },
    {
     "data": {
      "text/plain": [
       "<Figure size 1152x720 with 0 Axes>"
      ]
     },
     "metadata": {},
     "output_type": "display_data"
    },
    {
     "data": {
      "image/png": "[encoded data removed]",
      "text/plain": [
       "<Figure size 1152x720 with 1 Axes>"
      ]
     },
     "metadata": {
      "needs_background": "light"
     },
     "output_type": "display_data"
    }
   ],
   "source": [
    "plt.figure(figsize=(16,10))\n",
    "df.plot(figsize=(16,10), kind='bar')"
   ]
  },
  {
   "cell_type": "markdown",
   "metadata": {},
   "source": [
    "## Black-box attacks"
   ]
  },
  {
   "cell_type": "code",
   "execution_count": 5,
   "metadata": {
    "ExecuteTime": {
     "end_time": "2019-03-20T18:26:44.102767Z",
     "start_time": "2019-03-20T18:26:44.070753Z"
    }
   },
   "outputs": [],
   "source": [
    "black_box_path = '../experiments_results/attack_results/black_box_results_e_0125.json'\n",
    "with open(black_box_path,'r+') as json_data:\n",
    "    black_box_results = json.load(json_data)"
   ]
  },
  {
   "cell_type": "code",
   "execution_count": 6,
   "metadata": {
    "ExecuteTime": {
     "end_time": "2019-03-20T18:26:44.565028Z",
     "start_time": "2019-03-20T18:26:44.556021Z"
    }
   },
   "outputs": [
    {
     "data": {
      "text/plain": [
       "[{'densenet121_cifar10_fgsm_attacked_by_fgsm_acc': 0.7964,\n",
       "  'resnet56_cifar10_attacked_by_fgsm_acc': 0.5136000000000001,\n",
       "  'resnet56_cifar10_fgsm_attacked_by_fgsm_acc': 0.7877999999999998,\n",
       "  'transfer_densenet121_fgsm_fgsm_attacked_by_fgsm_acc': 0.7181000000000001,\n",
       "  'transfer_densenet121_fgsm_nat_attacked_by_fgsm_acc': 0.6553,\n",
       "  'transfer_densenet121_nat_fgsm_attacked_by_fgsm_acc': 0.6537999999999998,\n",
       "  'transfer_resnet56_fgsm_fgsm_attacked_by_fgsm_acc': 0.7586000000000002,\n",
       "  'transfer_resnet56_fgsm_nat_attacked_by_fgsm_acc': 0.7180000000000001,\n",
       "  'transfer_resnet56_nat_fgsm_attacked_by_fgsm_acc': 0.6850999999999999}]"
      ]
     },
     "execution_count": 6,
     "metadata": {},
     "output_type": "execute_result"
    }
   ],
   "source": [
    "black_box_results['cifar10']"
   ]
  },
  {
   "cell_type": "code",
   "execution_count": null,
   "metadata": {},
   "outputs": [],
   "source": [
    "'transfer_resnet56_nat_fgsm_attacked_by_fgsm_acc': 0.6850999999999999\n",
    "transfer_resnet56_fgsm_fgsm_attacked_by_fgsm_acc': 0.7586000000000002\n",
    "resnet56_cifar10_fgsm_attacked_by_fgsm_acc'      : 0.7877999999999998\n",
    "'resnet56_cifar10_attacked_by_fgsm_acc'          : 0.5136000000000001"
   ]
  }
 ],
 "metadata": {
  "kernelspec": {
   "display_name": "Python 3",
   "language": "python",
   "name": "python3"
  },
  "language_info": {
   "codemirror_mode": {
    "name": "ipython",
    "version": 3
   },
   "file_extension": ".py",
   "mimetype": "text/x-python",
   "name": "python",
   "nbconvert_exporter": "python",
   "pygments_lexer": "ipython3",
   "version": "3.6.7"
  },
  "varInspector": {
   "cols": {
    "lenName": 16,
    "lenType": 16,
    "lenVar": 40
   },
   "kernels_config": {
    "python": {
     "delete_cmd_postfix": "",
     "delete_cmd_prefix": "del ",
     "library": "var_list.py",
     "varRefreshCmd": "print(var_dic_list())"
    },
    "r": {
     "delete_cmd_postfix": ") ",
     "delete_cmd_prefix": "rm(",
     "library": "var_list.r",
     "varRefreshCmd": "cat(var_dic_list()) "
    }
   },
   "types_to_exclude": [
    "module",
    "function",
    "builtin_function_or_method",
    "instance",
    "_Feature"
   ],
   "window_display": false
  }
 },
 "nbformat": 4,
 "nbformat_minor": 2
}
