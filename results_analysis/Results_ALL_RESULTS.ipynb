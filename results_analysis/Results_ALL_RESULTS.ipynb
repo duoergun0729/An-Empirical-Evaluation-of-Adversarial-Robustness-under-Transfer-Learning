{
 "cells": [
  {
   "cell_type": "code",
   "execution_count": 92,
   "metadata": {},
   "outputs": [],
   "source": [
    "import os\n",
    "import sys\n",
    "\n",
    "module_path = os.path.abspath(os.path.join('..'))\n",
    "if module_path not in sys.path:\n",
    "    sys.path.append(module_path)\n",
    "import matplotlib.pyplot as plt\n",
    "%matplotlib inline\n",
    "\n",
    "import numpy as np\n",
    "import pandas as pd\n",
    "import re\n",
    "\n",
    "import os\n",
    "import json"
   ]
  },
  {
   "cell_type": "code",
   "execution_count": 93,
   "metadata": {
    "scrolled": false
   },
   "outputs": [],
   "source": [
    "def add_multicolumn(df, df2, new_col_name):\n",
    "    tmp = df2.copy()    # make copy, otherwise df2 will be changed !!!\n",
    "    tmp.columns = pd.MultiIndex.from_product([[new_col_name], df2.columns.tolist()])\n",
    "    return pd.concat([df, tmp], axis=1)\n",
    "\n",
    "def get_valid_filename(s):\n",
    "    s = str(s).strip().replace(' ', '_')\n",
    "    return re.sub(r'(?u)[^-\\w.]', '', s)"
   ]
  },
  {
   "cell_type": "code",
   "execution_count": 122,
   "metadata": {},
   "outputs": [],
   "source": [
    "model_path = '/users/Stathis/GoogleDrive/MLP/attack_results_pgd_7/'\n",
    "all_nets =  list(os.listdir(model_path))"
   ]
  },
  {
   "cell_type": "markdown",
   "metadata": {},
   "source": [
    "# Label Leaking"
   ]
  },
  {
   "cell_type": "code",
   "execution_count": 134,
   "metadata": {},
   "outputs": [
    {
     "data": {
      "text/plain": [
       "['white_box_attacks_pgd_7_densenet121_cifar10.json',\n",
       " 'white_box_attacks_pgd_7_densenet121_cifar10_fgsm.json',\n",
       " 'white_box_attacks_pgd_7_densenet121_cifar10_pgd.json',\n",
       " 'white_box_attacks_pgd_7_resnet56_cifar10.json',\n",
       " 'white_box_attacks_pgd_7_resnet56_cifar10_fgsm.json',\n",
       " 'white_box_attacks_pgd_7_resnet56_cifar10_pgd.json']"
      ]
     },
     "execution_count": 134,
     "metadata": {},
     "output_type": "execute_result"
    }
   ],
   "source": [
    "nets_original_baselines = [a for a in all_nets if 'pgd_7' in a and 'no_LL' not in a and 'all_layers' not in a and 'transfer' not in a\n",
    "                        and 'cifar100' not in a]\n",
    "nets_original_baselines.sort()\n",
    "nets_original_baselines"
   ]
  },
  {
   "cell_type": "code",
   "execution_count": 130,
   "metadata": {},
   "outputs": [],
   "source": [
    "nets_original_transfer = [a for a in all_nets if 'pgd_7' in a and 'no_LL' not in a and 'all_layers' not in a and 'transfer' in a]\n",
    "nets_original_transfer.sort()"
   ]
  },
  {
   "cell_type": "code",
   "execution_count": 131,
   "metadata": {},
   "outputs": [
    {
     "data": {
      "text/plain": [
       "['white_box_attacks_pgd_7_transfer_densenet121_fgsm_fgsm.json',\n",
       " 'white_box_attacks_pgd_7_transfer_densenet121_fgsm_nat.json',\n",
       " 'white_box_attacks_pgd_7_transfer_densenet121_nat_fgsm.json',\n",
       " 'white_box_attacks_pgd_7_transfer_densenet121_nat_nat.json',\n",
       " 'white_box_attacks_pgd_7_transfer_densenet121_nat_pgd.json',\n",
       " 'white_box_attacks_pgd_7_transfer_densenet121_pgd_nat.json',\n",
       " 'white_box_attacks_pgd_7_transfer_densenet121_pgd_pgd.json',\n",
       " 'white_box_attacks_pgd_7_transfer_resnet56_fgsm_fgsm.json',\n",
       " 'white_box_attacks_pgd_7_transfer_resnet56_fgsm_nat.json',\n",
       " 'white_box_attacks_pgd_7_transfer_resnet56_nat_fgsm.json',\n",
       " 'white_box_attacks_pgd_7_transfer_resnet56_nat_nat.json',\n",
       " 'white_box_attacks_pgd_7_transfer_resnet56_nat_pgd.json',\n",
       " 'white_box_attacks_pgd_7_transfer_resnet56_pgd_nat.json',\n",
       " 'white_box_attacks_pgd_7_transfer_resnet56_pgd_pgd.json']"
      ]
     },
     "execution_count": 131,
     "metadata": {},
     "output_type": "execute_result"
    }
   ],
   "source": [
    "nets_original_transfer"
   ]
  },
  {
   "cell_type": "code",
   "execution_count": 133,
   "metadata": {},
   "outputs": [
    {
     "ename": "AssertionError",
     "evalue": "7 columns passed, passed data had 3 columns",
     "output_type": "error",
     "traceback": [
      "\u001b[0;31m---------------------------------------------------------------------------\u001b[0m",
      "\u001b[0;31mAssertionError\u001b[0m                            Traceback (most recent call last)",
      "\u001b[0;32m<ipython-input-133-9327a8d56f1f>\u001b[0m in \u001b[0;36m<module>\u001b[0;34m\u001b[0m\n\u001b[1;32m     12\u001b[0m                                                      \u001b[0;34m'FGSM_0.0625'\u001b[0m\u001b[0;34m,\u001b[0m \u001b[0;34m'PGD_0.0625'\u001b[0m\u001b[0;34m,\u001b[0m\u001b[0;34m\u001b[0m\u001b[0;34m\u001b[0m\u001b[0m\n\u001b[1;32m     13\u001b[0m                                                      \u001b[0;34m'FGSM_0.125'\u001b[0m\u001b[0;34m,\u001b[0m \u001b[0;34m'PGD_0.125'\u001b[0m\u001b[0;34m,\u001b[0m\u001b[0;34m\u001b[0m\u001b[0;34m\u001b[0m\u001b[0m\n\u001b[0;32m---> 14\u001b[0;31m                                                     ], orient='index')\n\u001b[0m\u001b[1;32m     15\u001b[0m \u001b[0mdf\u001b[0m\u001b[0;34m=\u001b[0m\u001b[0mnp\u001b[0m\u001b[0;34m.\u001b[0m\u001b[0mround\u001b[0m\u001b[0;34m(\u001b[0m\u001b[0mdf\u001b[0m\u001b[0;34m*\u001b[0m\u001b[0;36m100\u001b[0m\u001b[0;34m,\u001b[0m\u001b[0;36m1\u001b[0m\u001b[0;34m)\u001b[0m\u001b[0;34m\u001b[0m\u001b[0;34m\u001b[0m\u001b[0m\n\u001b[1;32m     16\u001b[0m \u001b[0;34m\u001b[0m\u001b[0m\n",
      "\u001b[0;32m~/anaconda3/envs/mlp/lib/python3.6/site-packages/pandas/core/frame.py\u001b[0m in \u001b[0;36mfrom_dict\u001b[0;34m(cls, data, orient, dtype, columns)\u001b[0m\n\u001b[1;32m    983\u001b[0m             \u001b[0;32mraise\u001b[0m \u001b[0mValueError\u001b[0m\u001b[0;34m(\u001b[0m\u001b[0;34m'only recognize index or columns for orient'\u001b[0m\u001b[0;34m)\u001b[0m\u001b[0;34m\u001b[0m\u001b[0;34m\u001b[0m\u001b[0m\n\u001b[1;32m    984\u001b[0m \u001b[0;34m\u001b[0m\u001b[0m\n\u001b[0;32m--> 985\u001b[0;31m         \u001b[0;32mreturn\u001b[0m \u001b[0mcls\u001b[0m\u001b[0;34m(\u001b[0m\u001b[0mdata\u001b[0m\u001b[0;34m,\u001b[0m \u001b[0mindex\u001b[0m\u001b[0;34m=\u001b[0m\u001b[0mindex\u001b[0m\u001b[0;34m,\u001b[0m \u001b[0mcolumns\u001b[0m\u001b[0;34m=\u001b[0m\u001b[0mcolumns\u001b[0m\u001b[0;34m,\u001b[0m \u001b[0mdtype\u001b[0m\u001b[0;34m=\u001b[0m\u001b[0mdtype\u001b[0m\u001b[0;34m)\u001b[0m\u001b[0;34m\u001b[0m\u001b[0;34m\u001b[0m\u001b[0m\n\u001b[0m\u001b[1;32m    986\u001b[0m \u001b[0;34m\u001b[0m\u001b[0m\n\u001b[1;32m    987\u001b[0m     \u001b[0;32mdef\u001b[0m \u001b[0mto_dict\u001b[0m\u001b[0;34m(\u001b[0m\u001b[0mself\u001b[0m\u001b[0;34m,\u001b[0m \u001b[0morient\u001b[0m\u001b[0;34m=\u001b[0m\u001b[0;34m'dict'\u001b[0m\u001b[0;34m,\u001b[0m \u001b[0minto\u001b[0m\u001b[0;34m=\u001b[0m\u001b[0mdict\u001b[0m\u001b[0;34m)\u001b[0m\u001b[0;34m:\u001b[0m\u001b[0;34m\u001b[0m\u001b[0;34m\u001b[0m\u001b[0m\n",
      "\u001b[0;32m~/anaconda3/envs/mlp/lib/python3.6/site-packages/pandas/core/frame.py\u001b[0m in \u001b[0;36m__init__\u001b[0;34m(self, data, index, columns, dtype, copy)\u001b[0m\n\u001b[1;32m    385\u001b[0m                     \u001b[0;32mif\u001b[0m \u001b[0mis_named_tuple\u001b[0m\u001b[0;34m(\u001b[0m\u001b[0mdata\u001b[0m\u001b[0;34m[\u001b[0m\u001b[0;36m0\u001b[0m\u001b[0;34m]\u001b[0m\u001b[0;34m)\u001b[0m \u001b[0;32mand\u001b[0m \u001b[0mcolumns\u001b[0m \u001b[0;32mis\u001b[0m \u001b[0;32mNone\u001b[0m\u001b[0;34m:\u001b[0m\u001b[0;34m\u001b[0m\u001b[0;34m\u001b[0m\u001b[0m\n\u001b[1;32m    386\u001b[0m                         \u001b[0mcolumns\u001b[0m \u001b[0;34m=\u001b[0m \u001b[0mdata\u001b[0m\u001b[0;34m[\u001b[0m\u001b[0;36m0\u001b[0m\u001b[0;34m]\u001b[0m\u001b[0;34m.\u001b[0m\u001b[0m_fields\u001b[0m\u001b[0;34m\u001b[0m\u001b[0;34m\u001b[0m\u001b[0m\n\u001b[0;32m--> 387\u001b[0;31m                     \u001b[0marrays\u001b[0m\u001b[0;34m,\u001b[0m \u001b[0mcolumns\u001b[0m \u001b[0;34m=\u001b[0m \u001b[0m_to_arrays\u001b[0m\u001b[0;34m(\u001b[0m\u001b[0mdata\u001b[0m\u001b[0;34m,\u001b[0m \u001b[0mcolumns\u001b[0m\u001b[0;34m,\u001b[0m \u001b[0mdtype\u001b[0m\u001b[0;34m=\u001b[0m\u001b[0mdtype\u001b[0m\u001b[0;34m)\u001b[0m\u001b[0;34m\u001b[0m\u001b[0;34m\u001b[0m\u001b[0m\n\u001b[0m\u001b[1;32m    388\u001b[0m                     \u001b[0mcolumns\u001b[0m \u001b[0;34m=\u001b[0m \u001b[0m_ensure_index\u001b[0m\u001b[0;34m(\u001b[0m\u001b[0mcolumns\u001b[0m\u001b[0;34m)\u001b[0m\u001b[0;34m\u001b[0m\u001b[0;34m\u001b[0m\u001b[0m\n\u001b[1;32m    389\u001b[0m \u001b[0;34m\u001b[0m\u001b[0m\n",
      "\u001b[0;32m~/anaconda3/envs/mlp/lib/python3.6/site-packages/pandas/core/frame.py\u001b[0m in \u001b[0;36m_to_arrays\u001b[0;34m(data, columns, coerce_float, dtype)\u001b[0m\n\u001b[1;32m   7473\u001b[0m     \u001b[0;32mif\u001b[0m \u001b[0misinstance\u001b[0m\u001b[0;34m(\u001b[0m\u001b[0mdata\u001b[0m\u001b[0;34m[\u001b[0m\u001b[0;36m0\u001b[0m\u001b[0;34m]\u001b[0m\u001b[0;34m,\u001b[0m \u001b[0;34m(\u001b[0m\u001b[0mlist\u001b[0m\u001b[0;34m,\u001b[0m \u001b[0mtuple\u001b[0m\u001b[0;34m)\u001b[0m\u001b[0;34m)\u001b[0m\u001b[0;34m:\u001b[0m\u001b[0;34m\u001b[0m\u001b[0;34m\u001b[0m\u001b[0m\n\u001b[1;32m   7474\u001b[0m         return _list_to_arrays(data, columns, coerce_float=coerce_float,\n\u001b[0;32m-> 7475\u001b[0;31m                                dtype=dtype)\n\u001b[0m\u001b[1;32m   7476\u001b[0m     \u001b[0;32melif\u001b[0m \u001b[0misinstance\u001b[0m\u001b[0;34m(\u001b[0m\u001b[0mdata\u001b[0m\u001b[0;34m[\u001b[0m\u001b[0;36m0\u001b[0m\u001b[0;34m]\u001b[0m\u001b[0;34m,\u001b[0m \u001b[0mcollections\u001b[0m\u001b[0;34m.\u001b[0m\u001b[0mMapping\u001b[0m\u001b[0;34m)\u001b[0m\u001b[0;34m:\u001b[0m\u001b[0;34m\u001b[0m\u001b[0;34m\u001b[0m\u001b[0m\n\u001b[1;32m   7477\u001b[0m         return _list_of_dict_to_arrays(data, columns,\n",
      "\u001b[0;32m~/anaconda3/envs/mlp/lib/python3.6/site-packages/pandas/core/frame.py\u001b[0m in \u001b[0;36m_list_to_arrays\u001b[0;34m(data, columns, coerce_float, dtype)\u001b[0m\n\u001b[1;32m   7552\u001b[0m         \u001b[0mcontent\u001b[0m \u001b[0;34m=\u001b[0m \u001b[0mlist\u001b[0m\u001b[0;34m(\u001b[0m\u001b[0mlib\u001b[0m\u001b[0;34m.\u001b[0m\u001b[0mto_object_array\u001b[0m\u001b[0;34m(\u001b[0m\u001b[0mdata\u001b[0m\u001b[0;34m)\u001b[0m\u001b[0;34m.\u001b[0m\u001b[0mT\u001b[0m\u001b[0;34m)\u001b[0m\u001b[0;34m\u001b[0m\u001b[0;34m\u001b[0m\u001b[0m\n\u001b[1;32m   7553\u001b[0m     return _convert_object_array(content, columns, dtype=dtype,\n\u001b[0;32m-> 7554\u001b[0;31m                                  coerce_float=coerce_float)\n\u001b[0m\u001b[1;32m   7555\u001b[0m \u001b[0;34m\u001b[0m\u001b[0m\n\u001b[1;32m   7556\u001b[0m \u001b[0;34m\u001b[0m\u001b[0m\n",
      "\u001b[0;32m~/anaconda3/envs/mlp/lib/python3.6/site-packages/pandas/core/frame.py\u001b[0m in \u001b[0;36m_convert_object_array\u001b[0;34m(content, columns, coerce_float, dtype)\u001b[0m\n\u001b[1;32m   7610\u001b[0m             raise AssertionError('{col:d} columns passed, passed data had '\n\u001b[1;32m   7611\u001b[0m                                  '{con} columns'.format(col=len(columns),\n\u001b[0;32m-> 7612\u001b[0;31m                                                         con=len(content)))\n\u001b[0m\u001b[1;32m   7613\u001b[0m \u001b[0;34m\u001b[0m\u001b[0m\n\u001b[1;32m   7614\u001b[0m     \u001b[0;31m# provide soft conversion of object dtypes\u001b[0m\u001b[0;34m\u001b[0m\u001b[0;34m\u001b[0m\u001b[0;34m\u001b[0m\u001b[0m\n",
      "\u001b[0;31mAssertionError\u001b[0m: 7 columns passed, passed data had 3 columns"
     ]
    }
   ],
   "source": [
    "nets = nets_original_transfer\n",
    "\n",
    "attack_results = {}\n",
    "\n",
    "for net in nets:\n",
    "    fname = model_path+net\n",
    "    with open(fname,'r+') as json_data:\n",
    "        attack_results[net[24:-5]] = list(json.load(json_data).values())\n",
    "        \n",
    "df = pd.DataFrame.from_dict(attack_results, columns=['Clean', \n",
    "                                                     'FGSM_0.03125', 'PGD_0.03125',\n",
    "                                                     'FGSM_0.0625', 'PGD_0.0625',\n",
    "                                                     'FGSM_0.125', 'PGD_0.125',                                                    \n",
    "                                                    ], orient='index')\n",
    "df=np.round(df*100,1)\n",
    "\n",
    "for net in df.iterrows():\n",
    "#     print(net[0])\n",
    "    nn = net[0].split('_')\n",
    "#     print(nn)\n",
    "    df.loc[net[0],'net'] = nn[3]\n",
    "    df.loc[net[0],'source'] = nn[4]\n",
    "    df.loc[net[0],'target'] = nn[5]\n",
    "    df.loc[net[0],'step'] = nn[7]\n",
    "    df.loc[net[0],'gamma'] = nn[9]\n",
    "    \n",
    "df.groupby([ 'net','source', 'target', ]).mean()"
   ]
  },
  {
   "cell_type": "markdown",
   "metadata": {},
   "source": [
    "# No Label Leaking"
   ]
  },
  {
   "cell_type": "code",
   "execution_count": 90,
   "metadata": {},
   "outputs": [],
   "source": [
    "model_path = '/users/Stathis/GoogleDrive/MLP/attack_results_pgd_7/'\n",
    "nets =  list(os.listdir(model_path))\n",
    "nets = [a for a in nets if 'all_layers' in a and 'no_LL' in a]\n",
    "nets.sort()\n",
    "\n",
    "attack_results = {}\n",
    "\n",
    "for net in nets:\n",
    "    fname = model_path+net\n",
    "    with open(fname,'r+') as json_data:\n",
    "        attack_results[net[30:-5]] = list(json.load(json_data).values())\n",
    "        \n",
    "df = pd.DataFrame.from_dict(attack_results, columns=['Clean', \n",
    "                                                     'FGSM_0.03125', 'PGD_0.03125',\n",
    "                                                     'FGSM_0.0625', 'PGD_0.0625',\n",
    "                                                     'FGSM_0.125', 'PGD_0.125',                                                    \n",
    "                                                    ], orient='index')\n",
    "df=np.round(df*100,1)\n",
    "\n",
    "for net in df.iterrows():\n",
    "#     print(net[0])\n",
    "    nn = net[0].split('_')\n",
    "#     print(nn)\n",
    "    df.loc[net[0],'net'] = nn[3]\n",
    "    df.loc[net[0],'source'] = nn[4]\n",
    "    df.loc[net[0],'target'] = nn[5]\n",
    "    df.loc[net[0],'step'] = nn[7]\n",
    "    df.loc[net[0],'gamma'] = nn[9]\n",
    "    \n",
    "# df.set_index([ 'net','source', 'target', ])"
   ]
  },
  {
   "cell_type": "code",
   "execution_count": 91,
   "metadata": {},
   "outputs": [
    {
     "data": {
      "text/html": [
       "<div>\n",
       "<style scoped>\n",
       "    .dataframe tbody tr th:only-of-type {\n",
       "        vertical-align: middle;\n",
       "    }\n",
       "\n",
       "    .dataframe tbody tr th {\n",
       "        vertical-align: top;\n",
       "    }\n",
       "\n",
       "    .dataframe thead th {\n",
       "        text-align: right;\n",
       "    }\n",
       "</style>\n",
       "<table border=\"1\" class=\"dataframe\">\n",
       "  <thead>\n",
       "    <tr style=\"text-align: right;\">\n",
       "      <th></th>\n",
       "      <th></th>\n",
       "      <th></th>\n",
       "      <th>Clean</th>\n",
       "      <th>FGSM_0.03125</th>\n",
       "      <th>PGD_0.03125</th>\n",
       "      <th>FGSM_0.0625</th>\n",
       "      <th>PGD_0.0625</th>\n",
       "      <th>FGSM_0.125</th>\n",
       "      <th>PGD_0.125</th>\n",
       "    </tr>\n",
       "    <tr>\n",
       "      <th>net</th>\n",
       "      <th>source</th>\n",
       "      <th>target</th>\n",
       "      <th></th>\n",
       "      <th></th>\n",
       "      <th></th>\n",
       "      <th></th>\n",
       "      <th></th>\n",
       "      <th></th>\n",
       "      <th></th>\n",
       "    </tr>\n",
       "  </thead>\n",
       "  <tbody>\n",
       "    <tr>\n",
       "      <th rowspan=\"7\" valign=\"top\">densenet121</th>\n",
       "      <th rowspan=\"2\" valign=\"top\">fgsm</th>\n",
       "      <th>fgsm</th>\n",
       "      <td>91.50</td>\n",
       "      <td>74.70</td>\n",
       "      <td>56.10</td>\n",
       "      <td>64.60</td>\n",
       "      <td>31.30</td>\n",
       "      <td>49.70</td>\n",
       "      <td>8.80</td>\n",
       "    </tr>\n",
       "    <tr>\n",
       "      <th>nat</th>\n",
       "      <td>93.95</td>\n",
       "      <td>58.00</td>\n",
       "      <td>16.80</td>\n",
       "      <td>46.25</td>\n",
       "      <td>3.70</td>\n",
       "      <td>35.60</td>\n",
       "      <td>0.65</td>\n",
       "    </tr>\n",
       "    <tr>\n",
       "      <th rowspan=\"3\" valign=\"top\">nat</th>\n",
       "      <th>fgsm</th>\n",
       "      <td>90.40</td>\n",
       "      <td>76.00</td>\n",
       "      <td>60.60</td>\n",
       "      <td>65.80</td>\n",
       "      <td>36.50</td>\n",
       "      <td>48.60</td>\n",
       "      <td>11.70</td>\n",
       "    </tr>\n",
       "    <tr>\n",
       "      <th>nat</th>\n",
       "      <td>93.45</td>\n",
       "      <td>53.50</td>\n",
       "      <td>11.60</td>\n",
       "      <td>42.30</td>\n",
       "      <td>2.50</td>\n",
       "      <td>32.55</td>\n",
       "      <td>0.45</td>\n",
       "    </tr>\n",
       "    <tr>\n",
       "      <th>pgd</th>\n",
       "      <td>89.40</td>\n",
       "      <td>72.40</td>\n",
       "      <td>55.80</td>\n",
       "      <td>62.10</td>\n",
       "      <td>30.20</td>\n",
       "      <td>47.60</td>\n",
       "      <td>8.00</td>\n",
       "    </tr>\n",
       "    <tr>\n",
       "      <th rowspan=\"2\" valign=\"top\">pgd</th>\n",
       "      <th>nat</th>\n",
       "      <td>92.70</td>\n",
       "      <td>57.00</td>\n",
       "      <td>17.70</td>\n",
       "      <td>45.50</td>\n",
       "      <td>4.15</td>\n",
       "      <td>34.45</td>\n",
       "      <td>0.80</td>\n",
       "    </tr>\n",
       "    <tr>\n",
       "      <th>pgd</th>\n",
       "      <td>89.40</td>\n",
       "      <td>74.80</td>\n",
       "      <td>55.30</td>\n",
       "      <td>63.20</td>\n",
       "      <td>29.80</td>\n",
       "      <td>47.00</td>\n",
       "      <td>7.60</td>\n",
       "    </tr>\n",
       "    <tr>\n",
       "      <th rowspan=\"7\" valign=\"top\">resnet56</th>\n",
       "      <th rowspan=\"2\" valign=\"top\">fgsm</th>\n",
       "      <th>fgsm</th>\n",
       "      <td>89.20</td>\n",
       "      <td>68.55</td>\n",
       "      <td>49.35</td>\n",
       "      <td>54.35</td>\n",
       "      <td>23.20</td>\n",
       "      <td>38.25</td>\n",
       "      <td>5.75</td>\n",
       "    </tr>\n",
       "    <tr>\n",
       "      <th>nat</th>\n",
       "      <td>91.85</td>\n",
       "      <td>56.65</td>\n",
       "      <td>18.15</td>\n",
       "      <td>44.80</td>\n",
       "      <td>4.50</td>\n",
       "      <td>34.40</td>\n",
       "      <td>0.80</td>\n",
       "    </tr>\n",
       "    <tr>\n",
       "      <th rowspan=\"3\" valign=\"top\">nat</th>\n",
       "      <th>fgsm</th>\n",
       "      <td>89.90</td>\n",
       "      <td>73.60</td>\n",
       "      <td>61.65</td>\n",
       "      <td>61.50</td>\n",
       "      <td>38.50</td>\n",
       "      <td>43.60</td>\n",
       "      <td>13.35</td>\n",
       "    </tr>\n",
       "    <tr>\n",
       "      <th>nat</th>\n",
       "      <td>92.75</td>\n",
       "      <td>55.40</td>\n",
       "      <td>13.15</td>\n",
       "      <td>43.30</td>\n",
       "      <td>2.75</td>\n",
       "      <td>33.25</td>\n",
       "      <td>0.55</td>\n",
       "    </tr>\n",
       "    <tr>\n",
       "      <th>pgd</th>\n",
       "      <td>88.10</td>\n",
       "      <td>73.80</td>\n",
       "      <td>60.30</td>\n",
       "      <td>63.70</td>\n",
       "      <td>36.70</td>\n",
       "      <td>47.20</td>\n",
       "      <td>12.40</td>\n",
       "    </tr>\n",
       "    <tr>\n",
       "      <th rowspan=\"2\" valign=\"top\">pgd</th>\n",
       "      <th>nat</th>\n",
       "      <td>91.55</td>\n",
       "      <td>58.00</td>\n",
       "      <td>16.45</td>\n",
       "      <td>47.35</td>\n",
       "      <td>4.40</td>\n",
       "      <td>37.05</td>\n",
       "      <td>0.75</td>\n",
       "    </tr>\n",
       "    <tr>\n",
       "      <th>pgd</th>\n",
       "      <td>88.70</td>\n",
       "      <td>72.80</td>\n",
       "      <td>54.90</td>\n",
       "      <td>62.20</td>\n",
       "      <td>29.90</td>\n",
       "      <td>46.60</td>\n",
       "      <td>8.90</td>\n",
       "    </tr>\n",
       "  </tbody>\n",
       "</table>\n",
       "</div>"
      ],
      "text/plain": [
       "                           Clean  FGSM_0.03125  PGD_0.03125  FGSM_0.0625  \\\n",
       "net         source target                                                  \n",
       "densenet121 fgsm   fgsm    91.50         74.70        56.10        64.60   \n",
       "                   nat     93.95         58.00        16.80        46.25   \n",
       "            nat    fgsm    90.40         76.00        60.60        65.80   \n",
       "                   nat     93.45         53.50        11.60        42.30   \n",
       "                   pgd     89.40         72.40        55.80        62.10   \n",
       "            pgd    nat     92.70         57.00        17.70        45.50   \n",
       "                   pgd     89.40         74.80        55.30        63.20   \n",
       "resnet56    fgsm   fgsm    89.20         68.55        49.35        54.35   \n",
       "                   nat     91.85         56.65        18.15        44.80   \n",
       "            nat    fgsm    89.90         73.60        61.65        61.50   \n",
       "                   nat     92.75         55.40        13.15        43.30   \n",
       "                   pgd     88.10         73.80        60.30        63.70   \n",
       "            pgd    nat     91.55         58.00        16.45        47.35   \n",
       "                   pgd     88.70         72.80        54.90        62.20   \n",
       "\n",
       "                           PGD_0.0625  FGSM_0.125  PGD_0.125  \n",
       "net         source target                                     \n",
       "densenet121 fgsm   fgsm         31.30       49.70       8.80  \n",
       "                   nat           3.70       35.60       0.65  \n",
       "            nat    fgsm         36.50       48.60      11.70  \n",
       "                   nat           2.50       32.55       0.45  \n",
       "                   pgd          30.20       47.60       8.00  \n",
       "            pgd    nat           4.15       34.45       0.80  \n",
       "                   pgd          29.80       47.00       7.60  \n",
       "resnet56    fgsm   fgsm         23.20       38.25       5.75  \n",
       "                   nat           4.50       34.40       0.80  \n",
       "            nat    fgsm         38.50       43.60      13.35  \n",
       "                   nat           2.75       33.25       0.55  \n",
       "                   pgd          36.70       47.20      12.40  \n",
       "            pgd    nat           4.40       37.05       0.75  \n",
       "                   pgd          29.90       46.60       8.90  "
      ]
     },
     "execution_count": 91,
     "metadata": {},
     "output_type": "execute_result"
    }
   ],
   "source": [
    "df.groupby([ 'net','source', 'target', ]).mean()"
   ]
  },
  {
   "cell_type": "markdown",
   "metadata": {},
   "source": [
    "# Black box attacks"
   ]
  },
  {
   "cell_type": "code",
   "execution_count": 74,
   "metadata": {},
   "outputs": [],
   "source": [
    "js = json.load(open(\"../experiments_results/attack_results/black_box_results_all_layers.json\"))"
   ]
  },
  {
   "cell_type": "code",
   "execution_count": 83,
   "metadata": {
    "scrolled": false
   },
   "outputs": [],
   "source": [
    "# js"
   ]
  },
  {
   "cell_type": "code",
   "execution_count": null,
   "metadata": {},
   "outputs": [],
   "source": []
  }
 ],
 "metadata": {
  "kernelspec": {
   "display_name": "Python 3",
   "language": "python",
   "name": "python3"
  },
  "language_info": {
   "codemirror_mode": {
    "name": "ipython",
    "version": 3
   },
   "file_extension": ".py",
   "mimetype": "text/x-python",
   "name": "python",
   "nbconvert_exporter": "python",
   "pygments_lexer": "ipython3",
   "version": "3.6.7"
  }
 },
 "nbformat": 4,
 "nbformat_minor": 2
}
