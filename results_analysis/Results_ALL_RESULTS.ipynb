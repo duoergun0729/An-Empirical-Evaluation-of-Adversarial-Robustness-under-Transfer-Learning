{
 "cells": [
  {
   "cell_type": "code",
   "execution_count": 194,
   "metadata": {},
   "outputs": [
    {
     "data": {
      "text/html": [
       "\n",
       "<script>\n",
       "  function code_toggle() {    if (code_shown){      $('div.input').hide('500');\n",
       "      $('#toggleButton').val('Show Code')\n",
       "    } else {$('div.input').show('500');$('#toggleButton').val('Hide Code')    }code_shown = !code_shown\n",
       "  }  $( document ).ready(function(){code_shown=false;$('div.input').hide()\n",
       "  });</script><form action=\"javascript:code_toggle()\"><input type=\"submit\" id=\"toggleButton\" value=\"Show Code\"></form>\n"
      ],
      "text/plain": [
       "<IPython.core.display.HTML object>"
      ]
     },
     "execution_count": 194,
     "metadata": {},
     "output_type": "execute_result"
    }
   ],
   "source": [
    "from IPython.display import HTML\n",
    "\n",
    "HTML('''\n",
    "<script>\n",
    "  function code_toggle() {    if (code_shown){      $('div.input').hide('500');\n",
    "      $('#toggleButton').val('Show Code')\n",
    "    } else {$('div.input').show('500');$('#toggleButton').val('Hide Code')    }code_shown = !code_shown\n",
    "  }  $( document ).ready(function(){code_shown=false;$('div.input').hide()\n",
    "  });</script><form action=\"javascript:code_toggle()\"><input type=\"submit\" id=\"toggleButton\" value=\"Show Code\"></form>\n",
    "''')"
   ]
  },
  {
   "cell_type": "code",
   "execution_count": 1,
   "metadata": {},
   "outputs": [],
   "source": [
    "import os\n",
    "import sys\n",
    "\n",
    "module_path = os.path.abspath(os.path.join('..'))\n",
    "if module_path not in sys.path:\n",
    "    sys.path.append(module_path)\n",
    "import matplotlib.pyplot as plt\n",
    "%matplotlib inline\n",
    "\n",
    "import numpy as np\n",
    "import pandas as pd\n",
    "import re\n",
    "\n",
    "import os\n",
    "import json"
   ]
  },
  {
   "cell_type": "code",
   "execution_count": 24,
   "metadata": {
    "scrolled": false
   },
   "outputs": [],
   "source": [
    "def strip_exp_names(e, iden='FINAL_RESULTS'):\n",
    "    i = e.find(iden)+len(iden)+1\n",
    "    return e[i:-5]\n",
    "\n",
    "def add_multicolumn(df, df2, new_col_name):\n",
    "    tmp = df2.copy()    # make copy, otherwise df2 will be changed !!!\n",
    "    tmp.columns = pd.MultiIndex.from_product([[new_col_name], df2.columns.tolist()])\n",
    "    return pd.concat([df, tmp], axis=1)\n",
    "\n",
    "def get_valid_filename(s):\n",
    "    s = str(s).strip().replace(' ', '_')\n",
    "    return re.sub(r'(?u)[^-\\w.]', '', s)"
   ]
  },
  {
   "cell_type": "code",
   "execution_count": 60,
   "metadata": {},
   "outputs": [],
   "source": [
    "model_path = '../attack_results/white_box/'\n",
    "all_nets =  list(os.listdir(model_path))\n",
    "all_nets = [a for a in all_nets if 'FINAL_RESULTS' in a]\n",
    "# all_nets = [strip_exp_names(a) for a in all_nets]\n",
    "# all_nets"
   ]
  },
  {
   "cell_type": "code",
   "execution_count": 179,
   "metadata": {},
   "outputs": [
    {
     "data": {
      "text/plain": [
       "['white_box_attacks_FINAL_RESULTS_resnet56_cifar10.json',\n",
       " 'white_box_attacks_FINAL_RESULTS_transfer_12_layers_resnet56_nat_pgd.json',\n",
       " 'white_box_attacks_FINAL_RESULTS_transfer_12_layers_resnet56_nat_fgsm.json',\n",
       " 'white_box_attacks_FINAL_RESULTS_transfer_12_layers_resnet56_fgsm_fgsm.json',\n",
       " 'white_box_attacks_FINAL_RESULTS_transfer_feat_extractor_resnet56_nat_pgd.json',\n",
       " 'white_box_attacks_FINAL_RESULTS_transfer_12_layers_resnet56_fgsm_nat.json',\n",
       " 'white_box_attacks_FINAL_RESULTS_transfer_all_layers_resnet56_fgsm_fgsm.json',\n",
       " 'white_box_attacks_FINAL_RESULTS_transfer_feat_extractor_resnet56_fgsm_fgsm.json',\n",
       " 'white_box_attacks_FINAL_RESULTS_resnet56_cifar10_fgsm.json',\n",
       " 'white_box_attacks_FINAL_RESULTS_transfer_all_layers_resnet56_nat_fgsm.json',\n",
       " 'white_box_attacks_FINAL_RESULTS_transfer_feat_extractor_resnet56_nat_fgsm.json',\n",
       " 'white_box_attacks_FINAL_RESULTS_transfer_all_layers_resnet56_nat_pgd.json',\n",
       " 'white_box_attacks_FINAL_RESULTS_transfer_feat_extractor_resnet56_fgsm_nat.json',\n",
       " 'white_box_attacks_FINAL_RESULTS_transfer_all_layers_resnet56_fgsm_nat.json',\n",
       " 'white_box_attacks_FINAL_RESULTS_resnet56_cifar10_pgd.json']"
      ]
     },
     "execution_count": 179,
     "metadata": {},
     "output_type": "execute_result"
    }
   ],
   "source": [
    "all_nets"
   ]
  },
  {
   "cell_type": "code",
   "execution_count": 23,
   "metadata": {},
   "outputs": [],
   "source": []
  },
  {
   "cell_type": "code",
   "execution_count": 61,
   "metadata": {},
   "outputs": [],
   "source": [
    "nets_baselines = [a for a in all_nets if 'FINAL_RESULTS' in a and 'no_LL' not in a and 'all_layers' not in a and 'transfer' not in a\n",
    "                        and 'cifar100' not in a]\n",
    "nets_baselines.sort()\n",
    "# nets_baselines"
   ]
  },
  {
   "cell_type": "code",
   "execution_count": 62,
   "metadata": {},
   "outputs": [],
   "source": [
    "nets_transfer = [a for a in all_nets if 'FINAL_RESULTS' in a and 'transfer' in a]\n",
    "nets_transfer.sort()\n",
    "# nets_transfer"
   ]
  },
  {
   "cell_type": "code",
   "execution_count": null,
   "metadata": {},
   "outputs": [],
   "source": []
  },
  {
   "cell_type": "code",
   "execution_count": null,
   "metadata": {},
   "outputs": [],
   "source": []
  },
  {
   "cell_type": "code",
   "execution_count": 173,
   "metadata": {},
   "outputs": [],
   "source": [
    "nets = all_nets\n",
    "\n",
    "attack_results = {}\n",
    "\n",
    "for net in nets:\n",
    "    fname = model_path+net\n",
    "    with open(fname,'r+') as json_data:\n",
    "        attack_results[strip_exp_names(net)] = list(json.load(json_data).values())\n",
    "        \n",
    "df = pd.DataFrame.from_dict(attack_results, columns=['Clean', \n",
    "                                                     'FGSM 0.03125', 'PGD 0.03125',\n",
    "                                                     'FGSM 0.0625', 'PGD 0.0625',\n",
    "                                                    ], orient='index')\n",
    "\n",
    "for row in df.iterrows():\n",
    "    s = row[0].split('_')\n",
    "#     print(s)\n",
    "    if s[0] == 'transfer':\n",
    "#         df.loc[row[0], 'Net'] = s[3]\n",
    "        df.loc[row[0], 'Type'] = 'Transfer'\n",
    "        df.loc[row[0], 'Source Adversary'] = s[4]\n",
    "        df.loc[row[0], 'Target Adversary'] = s[5]\n",
    "        df.loc[row[0], 'Transfer'] = s[1] + ' ' + s[2]\n",
    "    else:\n",
    "#         df.loc[row[0], 'Net'] = s[0]\n",
    "        df.loc[row[0], 'Type'] = 'Baseline'\n",
    "        df.loc[row[0], 'Source Adversary'] = s[2] if len(s)==3 else 'nat'\n",
    "        df.loc[row[0], 'Target Adversary'] = ''\n",
    "        df.loc[row[0], 'Transfer'] = 'No transfer'\n",
    "        \n",
    "df[df.select_dtypes(include=['number']).columns] *= 100\n",
    "df=np.round(df,1)"
   ]
  },
  {
   "cell_type": "code",
   "execution_count": 178,
   "metadata": {},
   "outputs": [
    {
     "data": {
      "text/html": [
       "<div>\n",
       "<style scoped>\n",
       "    .dataframe tbody tr th:only-of-type {\n",
       "        vertical-align: middle;\n",
       "    }\n",
       "\n",
       "    .dataframe tbody tr th {\n",
       "        vertical-align: top;\n",
       "    }\n",
       "\n",
       "    .dataframe thead th {\n",
       "        text-align: right;\n",
       "    }\n",
       "</style>\n",
       "<table border=\"1\" class=\"dataframe\">\n",
       "  <thead>\n",
       "    <tr style=\"text-align: right;\">\n",
       "      <th></th>\n",
       "      <th></th>\n",
       "      <th></th>\n",
       "      <th></th>\n",
       "      <th>Clean</th>\n",
       "      <th>FGSM 0.0625</th>\n",
       "      <th>PGD 0.0625</th>\n",
       "    </tr>\n",
       "    <tr>\n",
       "      <th>Type</th>\n",
       "      <th>Transfer</th>\n",
       "      <th>Source Adversary</th>\n",
       "      <th>Target Adversary</th>\n",
       "      <th></th>\n",
       "      <th></th>\n",
       "      <th></th>\n",
       "    </tr>\n",
       "  </thead>\n",
       "  <tbody>\n",
       "    <tr>\n",
       "      <th rowspan=\"3\" valign=\"top\">Baseline</th>\n",
       "      <th rowspan=\"3\" valign=\"top\">No transfer</th>\n",
       "      <th>fgsm</th>\n",
       "      <th></th>\n",
       "      <td>87.1</td>\n",
       "      <td>78.6</td>\n",
       "      <td>13.5</td>\n",
       "    </tr>\n",
       "    <tr>\n",
       "      <th>nat</th>\n",
       "      <th></th>\n",
       "      <td>92.5</td>\n",
       "      <td>20.0</td>\n",
       "      <td>0.0</td>\n",
       "    </tr>\n",
       "    <tr>\n",
       "      <th>pgd</th>\n",
       "      <th></th>\n",
       "      <td>83.9</td>\n",
       "      <td>45.4</td>\n",
       "      <td>36.1</td>\n",
       "    </tr>\n",
       "    <tr>\n",
       "      <th rowspan=\"12\" valign=\"top\">Transfer</th>\n",
       "      <th rowspan=\"4\" valign=\"top\">12 layers</th>\n",
       "      <th rowspan=\"2\" valign=\"top\">fgsm</th>\n",
       "      <th>fgsm</th>\n",
       "      <td>87.2</td>\n",
       "      <td>67.5</td>\n",
       "      <td>2.9</td>\n",
       "    </tr>\n",
       "    <tr>\n",
       "      <th>nat</th>\n",
       "      <td>89.1</td>\n",
       "      <td>43.3</td>\n",
       "      <td>2.4</td>\n",
       "    </tr>\n",
       "    <tr>\n",
       "      <th rowspan=\"2\" valign=\"top\">nat</th>\n",
       "      <th>fgsm</th>\n",
       "      <td>77.3</td>\n",
       "      <td>41.9</td>\n",
       "      <td>0.5</td>\n",
       "    </tr>\n",
       "    <tr>\n",
       "      <th>pgd</th>\n",
       "      <td>60.8</td>\n",
       "      <td>20.0</td>\n",
       "      <td>1.0</td>\n",
       "    </tr>\n",
       "    <tr>\n",
       "      <th rowspan=\"4\" valign=\"top\">all layers</th>\n",
       "      <th rowspan=\"2\" valign=\"top\">fgsm</th>\n",
       "      <th>fgsm</th>\n",
       "      <td>85.7</td>\n",
       "      <td>72.3</td>\n",
       "      <td>1.5</td>\n",
       "    </tr>\n",
       "    <tr>\n",
       "      <th>nat</th>\n",
       "      <td>91.9</td>\n",
       "      <td>23.6</td>\n",
       "      <td>0.0</td>\n",
       "    </tr>\n",
       "    <tr>\n",
       "      <th rowspan=\"2\" valign=\"top\">nat</th>\n",
       "      <th>fgsm</th>\n",
       "      <td>88.1</td>\n",
       "      <td>78.4</td>\n",
       "      <td>1.8</td>\n",
       "    </tr>\n",
       "    <tr>\n",
       "      <th>pgd</th>\n",
       "      <td>81.5</td>\n",
       "      <td>45.6</td>\n",
       "      <td>39.2</td>\n",
       "    </tr>\n",
       "    <tr>\n",
       "      <th rowspan=\"4\" valign=\"top\">feat extractor</th>\n",
       "      <th rowspan=\"2\" valign=\"top\">fgsm</th>\n",
       "      <th>fgsm</th>\n",
       "      <td>66.6</td>\n",
       "      <td>42.7</td>\n",
       "      <td>0.2</td>\n",
       "    </tr>\n",
       "    <tr>\n",
       "      <th>nat</th>\n",
       "      <td>69.0</td>\n",
       "      <td>23.5</td>\n",
       "      <td>0.0</td>\n",
       "    </tr>\n",
       "    <tr>\n",
       "      <th rowspan=\"2\" valign=\"top\">nat</th>\n",
       "      <th>fgsm</th>\n",
       "      <td>69.3</td>\n",
       "      <td>13.1</td>\n",
       "      <td>0.0</td>\n",
       "    </tr>\n",
       "    <tr>\n",
       "      <th>pgd</th>\n",
       "      <td>52.2</td>\n",
       "      <td>13.2</td>\n",
       "      <td>0.0</td>\n",
       "    </tr>\n",
       "  </tbody>\n",
       "</table>\n",
       "</div>"
      ],
      "text/plain": [
       "                                                           Clean  FGSM 0.0625  \\\n",
       "Type     Transfer       Source Adversary Target Adversary                       \n",
       "Baseline No transfer    fgsm                                87.1         78.6   \n",
       "                        nat                                 92.5         20.0   \n",
       "                        pgd                                 83.9         45.4   \n",
       "Transfer 12 layers      fgsm             fgsm               87.2         67.5   \n",
       "                                         nat                89.1         43.3   \n",
       "                        nat              fgsm               77.3         41.9   \n",
       "                                         pgd                60.8         20.0   \n",
       "         all layers     fgsm             fgsm               85.7         72.3   \n",
       "                                         nat                91.9         23.6   \n",
       "                        nat              fgsm               88.1         78.4   \n",
       "                                         pgd                81.5         45.6   \n",
       "         feat extractor fgsm             fgsm               66.6         42.7   \n",
       "                                         nat                69.0         23.5   \n",
       "                        nat              fgsm               69.3         13.1   \n",
       "                                         pgd                52.2         13.2   \n",
       "\n",
       "                                                           PGD 0.0625  \n",
       "Type     Transfer       Source Adversary Target Adversary              \n",
       "Baseline No transfer    fgsm                                     13.5  \n",
       "                        nat                                       0.0  \n",
       "                        pgd                                      36.1  \n",
       "Transfer 12 layers      fgsm             fgsm                     2.9  \n",
       "                                         nat                      2.4  \n",
       "                        nat              fgsm                     0.5  \n",
       "                                         pgd                      1.0  \n",
       "         all layers     fgsm             fgsm                     1.5  \n",
       "                                         nat                      0.0  \n",
       "                        nat              fgsm                     1.8  \n",
       "                                         pgd                     39.2  \n",
       "         feat extractor fgsm             fgsm                     0.2  \n",
       "                                         nat                      0.0  \n",
       "                        nat              fgsm                     0.0  \n",
       "                                         pgd                      0.0  "
      ]
     },
     "execution_count": 178,
     "metadata": {},
     "output_type": "execute_result"
    }
   ],
   "source": [
    "idx = ['Type', 'Transfer', 'Source Adversary', 'Target Adversary']\n",
    "df = df.sort_values(idx)\n",
    "df.set_index(idx)[['Clean', 'FGSM 0.0625','PGD 0.0625']]"
   ]
  },
  {
   "cell_type": "markdown",
   "metadata": {},
   "source": [
    "# Black box attacks"
   ]
  },
  {
   "cell_type": "code",
   "execution_count": 74,
   "metadata": {},
   "outputs": [],
   "source": [
    "js = json.load(open(\"../experiments_results/attack_results/black_box_results_all_layers.json\"))"
   ]
  }
 ],
 "metadata": {
  "kernelspec": {
   "display_name": "Python 3",
   "language": "python",
   "name": "python3"
  },
  "language_info": {
   "codemirror_mode": {
    "name": "ipython",
    "version": 3
   },
   "file_extension": ".py",
   "mimetype": "text/x-python",
   "name": "python",
   "nbconvert_exporter": "python",
   "pygments_lexer": "ipython3",
   "version": "3.6.7"
  }
 },
 "nbformat": 4,
 "nbformat_minor": 2
}
